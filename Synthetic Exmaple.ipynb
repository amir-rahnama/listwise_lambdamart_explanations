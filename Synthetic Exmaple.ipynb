{
 "cells": [
  {
   "cell_type": "code",
   "execution_count": 1,
   "id": "7c1ccf4d-088b-4f6b-9899-99c5f6fc38e6",
   "metadata": {},
   "outputs": [],
   "source": [
    "%load_ext autoreload\n",
    "%autoreload 2"
   ]
  },
  {
   "cell_type": "code",
   "execution_count": 2,
   "id": "2da7549d-b437-4209-ac07-2206bb66f34b",
   "metadata": {},
   "outputs": [],
   "source": [
    "import numpy as np\n",
    "from scipy.stats import rankdata\n",
    "import pandas as pd\n",
    "import pickle\n",
    "import lightgbm\n",
    "import os\n",
    "from lime import lime_tabular\n",
    "import sys\n",
    "sys.path.append('..')\n",
    "from lirme_v2 import LIRME\n",
    "from sklearn.utils import shuffle\n",
    "from scipy.stats import spearmanr, kendalltau\n",
    "import torch\n",
    "import torch.nn as nn\n",
    "import torch.nn.functional as F\n",
    "import torch.optim as optim\n",
    "import sys\n",
    "sys.path.append('..')\n",
    "from get_exp_new import lime_exp, shap_exp, random_exp, grad_exp\n",
    "from greedy_score import Greedy\n",
    "from sklearn.metrics import ndcg_score\n",
    "import seaborn as sns\n",
    "import matplotlib.pyplot as plt"
   ]
  },
  {
   "cell_type": "code",
   "execution_count": 3,
   "id": "03724def-7742-4a05-b579-c3b8aa8c27ee",
   "metadata": {},
   "outputs": [],
   "source": [
    "gt = np.array([0.2, -0.3, 0.5, 0, 0])"
   ]
  },
  {
   "cell_type": "code",
   "execution_count": 4,
   "id": "14b95f47-8d07-4401-b625-25bfe1fcbf32",
   "metadata": {},
   "outputs": [],
   "source": [
    "def S(D):\n",
    "    scores = D[:, 0] * 0.2 - 0.3 * D[:, 1] + 0.5 * D[:, 2] #+ np.random.normal(0, 0.1)\n",
    "    return len(scores) - rankdata(scores).astype(int)\n",
    "\n",
    "def prepare_data():\n",
    "    df_train = pickle.load( open( \"./synthetic_train.p\", \"rb\" ) )\n",
    "    df_test = pickle.load( open( \"./synthetic_test.p\", \"rb\" ) )\n",
    "    \n",
    "    qids_train = df_train.groupby(0)[0].count().to_numpy()\n",
    "    X_train = df_train.drop([0, 6], axis = 1)\n",
    "    y_train = df_train.iloc[:, 6].astype(int)\n",
    "\n",
    "    qids_test = df_test.groupby(0)[0].count().to_numpy()\n",
    "    X_test = df_test.drop([0, 6], axis = 1)\n",
    "    y_test = df_test.iloc[:, 6].astype(int)\n",
    "    \n",
    "    return X_train, y_train, qids_train, X_test, y_test, qids_test"
   ]
  },
  {
   "cell_type": "markdown",
   "id": "565b9140-b7a1-453a-b6b2-f8ca7717eebd",
   "metadata": {},
   "source": [
    "data = []\n",
    "q_id = []\n",
    "\n",
    "for i in range(1000): \n",
    "    mu = 0\n",
    "    sigma = 0.4\n",
    "    q_id.append(np.repeat(i, 10))\n",
    "    data.append(np.random.normal(mu, sigma, (10, 5)))\n",
    "\n",
    "\n",
    "scores = []\n",
    "for i in range(len(data)):\n",
    "    scores.append(S(data[i]))\n",
    "scores = np.array(scores).reshape(1000*10)\n",
    "\n",
    "data = np.array(data).reshape(1000 * 10, 5)\n",
    "\n",
    "q_id = np.array(q_id).flatten()\n",
    "\n",
    "\n",
    "data_df = pd.DataFrame(np.c_[q_id, data, scores])\n",
    "\n",
    "all_instances = data_df.iloc[:, 0].unique()\n",
    "q_train_idx = np.random.choice(all_instances, 800, replace=False)\n",
    "q_test_idx = np.setxor1d(all_instances, q_train_idx)\n",
    "\n",
    "df_train = data_df[data_df.iloc[:, 0].isin(q_train_idx)]\n",
    "df_test = data_df[data_df.iloc[:, 0].isin(q_test_idx)]\n",
    "\n",
    "pickle.dump(df_train, open( \"./synthetic_train.p\", \"wb\" ))\n",
    "pickle.dump(df_test, open( \"./synthetic_test.p\", \"wb\" ))"
   ]
  },
  {
   "cell_type": "code",
   "execution_count": 5,
   "id": "34e3175c-9388-46d2-94eb-91648cf7fe42",
   "metadata": {},
   "outputs": [],
   "source": [
    "df_train = pickle.load( open( \"./data/synthetic_train.p\", \"rb\" ) )\n",
    "df_test = pickle.load( open( \"./data/synthetic_test.p\", \"rb\" ) )\n",
    "\n",
    "train_scaled = df_train.drop([6], axis=1).values\n",
    "valid_scaled = df_test.drop([6], axis=1).values"
   ]
  },
  {
   "cell_type": "markdown",
   "id": "cb54e38b-2432-4749-a17f-c3746f342217",
   "metadata": {},
   "source": [
    "X_train, y_train, qids_train, X_test, y_test, qids_test = prepare_data()\n",
    "\n",
    "ranker = lightgbm.LGBMRanker(\n",
    "                    objective=\"lambdarank\",\n",
    "                    boosting_type = \"gbdt\",\n",
    "                    n_estimators = 5,\n",
    "                    importance_type = \"gain\",\n",
    "                    metric= \"ndcg\",\n",
    "                    num_leaves = 10,\n",
    "                    learning_rate = 0.05,\n",
    "                    max_depth = -1,\n",
    "                    label_gain =[i for i in range(max(y_train.max(), y_test.max()) + 1)])\n",
    "\n",
    "ranker.fit(\n",
    "      X=X_train,\n",
    "      y=y_train,\n",
    "      group=qids_train,\n",
    "      eval_set=[(X_train, y_train),(X_test, y_test)],\n",
    "      eval_group=[qids_train, qids_test],\n",
    "      eval_at=[5, 10])\n",
    "\n",
    "ranker.booster_.save_model('./models/lmart_synthetic.txt')\n",
    "pickle.dump(ranker.evals_result_, open( \"./models/lmart_synthetic_eval.p\", \"wb\" ) )"
   ]
  },
  {
   "cell_type": "code",
   "execution_count": 6,
   "id": "7d462977-4d75-4ec0-aa67-e2b909a3a17e",
   "metadata": {},
   "outputs": [],
   "source": [
    "ranker = lightgbm.Booster(model_file='./models/lmart_synthetic.txt')\n",
    "ranker.params['objective'] = 'binary'"
   ]
  },
  {
   "cell_type": "markdown",
   "id": "c7448d13-94b4-452a-86d7-c395bea0c07a",
   "metadata": {
    "tags": []
   },
   "source": [
    "lirme = LIRME(valid_scaled[:, 1:])\n",
    "e_sample_size = 4000\n",
    "\n",
    "exps = {'lime': [],  'shap': [], 'lirme': [], 'exs_v1': [],  'exs_v2': [], 'grad_d': [], 'random_d': []}\n",
    "\n",
    "for i in range(400):\n",
    "    if i % 10 == 0:\n",
    "        print(i)\n",
    "    instance = valid_scaled[i, 1:]#.reshape(1, -1)\n",
    "    train_background = train_scaled[:, 1:]\n",
    "    \n",
    "    exps['lime'].append(lime_exp(instance, ranker, train_background, sample_size=e_sample_size))\n",
    "    exps['shap'].append(shap_exp(instance, train_background, ranker, sample_size=e_sample_size))\n",
    "    \n",
    "    all_related_docs = np.argwhere(valid_scaled[i][0] == valid_scaled[:, 0]).flatten()\n",
    "    all_related_docs_preds = ranker.predict(valid_scaled[all_related_docs, 1:])\n",
    "\n",
    "    exp_lirme = lirme.explain(instance, ranker.predict, all_related_docs_preds, \n",
    "                sur_type='ridge', label_type='regression', \n",
    "                instance_idx=i, top_rank=5, sample_size=e_sample_size)\n",
    "    exps['lirme'].append(exp_lirme)\n",
    "\n",
    "    gradient_exp = grad_exp(instance, ranker)\n",
    "    exps['grad_d'].append(gradient_exp)\n",
    "\n",
    "    exp_exs_v1 = lirme.explain(instance, ranker.predict, all_related_docs_preds, \n",
    "                sur_type='svm', label_type='top_k_binary', \n",
    "                instance_idx=i, top_rank=5, sample_size=e_sample_size)\n",
    "    exps['exs_v1'].append(exp_exs_v1)\n",
    "\n",
    "    exp_exs_v2 = lirme.explain(instance, ranker.predict, all_related_docs_preds, \n",
    "                sur_type='svm', label_type='score', \n",
    "                instance_idx=i, top_rank=5, sample_size=e_sample_size)\n",
    "    exps['exs_v2'].append(exp_exs_v2)\n",
    "    \n",
    "    exps['random_d'].append(random_exp(instance.shape[0]))\n",
    "\n",
    "pickle.dump(exps, open( \"./synthetic_exps.p\", \"wb\" ) )"
   ]
  },
  {
   "cell_type": "code",
   "execution_count": 7,
   "id": "2ea0d209-91fe-4763-b6ec-1cc2b982d695",
   "metadata": {},
   "outputs": [],
   "source": [
    "exps = pickle.load( open( \"./exps/synthetic_exps.p\", \"rb\" ) )"
   ]
  },
  {
   "cell_type": "markdown",
   "id": "67344ab0-d7f1-4bf2-bd54-e8875b35c930",
   "metadata": {},
   "source": [
    "subset_test = df_test.iloc[:400]\n",
    "from listwise_exp import pmi_exp, rpi_exp, grad_q_exp, greedy_exp, random_q_exp\n",
    "from ranklime import RankLIME\n",
    "rlime = RankLIME(valid_scaled[:1000, 1:])\n",
    "\n",
    "q_exps = {'pmi': [], 'rpi': [], 'grad': [], 'rank_lime': [], 'greedy_score': [], 'random': []}\n",
    "\n",
    "\n",
    "#q_exps = {'pmi': [],  'rank_lime': [], 'greedy_score': [], 'random': []}\n",
    "\n",
    "for i, row in subset_test.groupby(0):\n",
    "    if i % 10 == 0:\n",
    "        print(i)\n",
    "    doc_values = row.loc[:, 1:5].values\n",
    "    \n",
    "    q_exps['pmi'].append(pmi_exp(doc_values, ranker))\n",
    "    q_exps['rpi'].append(rpi_exp(doc_values, ranker))\n",
    "    q_exps['grad'].append(grad_q_exp(doc_values, ranker))\n",
    "    q_exps['rank_lime'].append(rlime.explain(doc_values, ranker.predict, []))\n",
    "    q_exps['greedy_score'].append(greedy_exp(doc_values, ranker.predict))\n",
    "    q_exps['random'].append(random_q_exp(doc_values))\n",
    "\n",
    "pickle.dump(q_exps, open( \"./synthetic_query_exps_v1.p\", \"wb\" ) )"
   ]
  },
  {
   "cell_type": "code",
   "execution_count": 15,
   "id": "18cf8e7e-bf49-4033-9d0d-4d393b213544",
   "metadata": {},
   "outputs": [],
   "source": [
    "q_exps = pickle.load( open( \"./exps/synthetic_query_exps.p\", \"rb\" ) )"
   ]
  },
  {
   "cell_type": "code",
   "execution_count": 16,
   "id": "31a5376e-9739-48dc-8e67-e1c37b15f35c",
   "metadata": {},
   "outputs": [],
   "source": [
    "indices = np.arange(0, 410, 10)"
   ]
  },
  {
   "cell_type": "code",
   "execution_count": 17,
   "id": "275ba007-3d3c-4913-a137-566c0647c38c",
   "metadata": {},
   "outputs": [],
   "source": [
    "l_exp = {}\n",
    "for e in exps.keys():\n",
    "    l_exp[e] = []\n",
    "    for i in range(len(indices) - 1):        \n",
    "        l_exp_val = np.array(exps[e][indices[i]:indices[i+1]])\n",
    "        l_exp[e].append(np.sum(l_exp_val, axis=0))\n",
    "for e in l_exp:\n",
    "    q_exps[e] = l_exp[e]"
   ]
  },
  {
   "cell_type": "code",
   "execution_count": 18,
   "id": "b1db17c6-91b0-4ed7-afd8-74e3cac0c2be",
   "metadata": {},
   "outputs": [],
   "source": [
    "accuracy = {}\n",
    "for e in q_exps.keys():\n",
    "    accuracy[e] = 0\n",
    "    s_ranks_ = []\n",
    "    for i in range(len(q_exps[e])):\n",
    "        s_ranks_.append(kendalltau(q_exps[e][i], gt).statistic)\n",
    "    \n",
    "    accuracy[e] = np.nanmean(s_ranks_)"
   ]
  },
  {
   "cell_type": "code",
   "execution_count": 19,
   "id": "52a6df8b-95c5-4aae-8d0b-4afd5a83511b",
   "metadata": {},
   "outputs": [
    {
     "name": "stderr",
     "output_type": "stream",
     "text": [
      "Mean of empty slice\n"
     ]
    }
   ],
   "source": [
    "top_k = 2\n",
    "fidelity_non_ltr = {}\n",
    "for e in q_exps.keys():\n",
    "    fidelity_non_ltr[e] = 0\n",
    "    temp = []\n",
    "    for i in range(len(indices) - 1):\n",
    "        doc_values = valid_scaled[indices[i]:indices[i+1], 1:].copy()\n",
    "        doc_values_p = doc_values.copy()\n",
    "        \n",
    "        # perturb the doc_values based on exp\n",
    "        q_exp_val = q_exps[e][i].flatten()\n",
    "        top_features =  np.argsort(np.abs(q_exp_val))[-top_k:][::-1]\n",
    "        doc_values_p[:, top_features]  =  np.mean(valid_scaled[:, top_features], axis=0)\n",
    "        \n",
    "        output_0 = ranker.predict(doc_values)\n",
    "        output_1 = ranker.predict(doc_values_p)\n",
    "        output = np.abs(output_1 - output_0)\n",
    "        \n",
    "        prod = np.dot(doc_values_p, q_exp_val)\n",
    "        \n",
    "        temp.append(kendalltau(prod, output).statistic)\n",
    "    fidelity_non_ltr[e] = np.nanmean(temp)"
   ]
  },
  {
   "cell_type": "code",
   "execution_count": 21,
   "id": "f8c6c13c-a072-4150-b65a-aa0e23853a9f",
   "metadata": {},
   "outputs": [],
   "source": [
    "top_k = 2\n",
    "fidelity_ltr = {}\n",
    "for e in q_exps.keys():\n",
    "    fidelity_ltr[e] = 0\n",
    "    temp = []\n",
    "    \n",
    "    for i in range(len(indices) - 1):\n",
    "        doc_values = valid_scaled[indices[i]:indices[i+1], 1:].copy()\n",
    "        doc_values_p = doc_values.copy()\n",
    "        \n",
    "        # perturb the doc_values based on exp\n",
    "        q_exp_val = q_exps[e][i].flatten()\n",
    "        #top_features =  np.argsort(np.abs(q_exp_val))[-top_k:][::-1]\n",
    "        #doc_values_p[:, top_features]  =  np.mean(valid_scaled[:, top_features], axis=0)\n",
    "        \n",
    "        prod = np.dot(doc_values_p, q_exp_val)\n",
    "        output = ranker.predict(doc_values_p)\n",
    "        temp.append(kendalltau(prod, output).statistic)\n",
    "    fidelity_ltr[e] = np.nanmean(temp)"
   ]
  },
  {
   "cell_type": "code",
   "execution_count": 22,
   "id": "201b17a1-1fbe-4845-b0cf-0c5e3e66637d",
   "metadata": {},
   "outputs": [],
   "source": [
    "def min_max(v):\n",
    "    return (v - v.min()) / (v.max() - v.min())"
   ]
  },
  {
   "cell_type": "code",
   "execution_count": 23,
   "id": "3b83750a-c9ff-4e4e-98c1-7b3fd605c9f4",
   "metadata": {},
   "outputs": [],
   "source": [
    "## Explain NCDG@10\n",
    "\n",
    "explain_ndcg = {}\n",
    "for e in q_exps.keys():\n",
    "    explain_ndcg[e] = []\n",
    "    temp = []\n",
    "    for i in range(len(indices) - 1):\n",
    "        doc_values = valid_scaled[indices[i]:indices[i+1], 1:].copy()\n",
    "        doc_values_p = doc_values.copy()\n",
    "\n",
    "        # perturb the doc_values based on exp\n",
    "        q_exp_val = q_exps[e][i].flatten()\n",
    "        #top_features =  np.argsort(np.abs(q_exp_val))[-top_k:][::-1]\n",
    "        #doc_values_p[:, top_features]  =  np.mean(background[:, top_features], axis=0)\n",
    "\n",
    "        prod = np.dot(doc_values, q_exp_val)\n",
    "        \n",
    "        output = min_max(ranker.predict(doc_values_p))\n",
    "        \n",
    "        #temp.append(kendalltau(prod, output).statistic)\n",
    "        temp.append(ndcg_score([output], [prod], k=10))\n",
    "    explain_ndcg[e] = np.nanmean(temp)"
   ]
  },
  {
   "cell_type": "code",
   "execution_count": 24,
   "id": "ea2fbb82-4f88-47f4-8dca-3bd12cf3cbe4",
   "metadata": {},
   "outputs": [],
   "source": [
    "e_ndcg = pd.DataFrame(explain_ndcg, index=['Explain NDCG']).round(2)"
   ]
  },
  {
   "cell_type": "code",
   "execution_count": 25,
   "id": "49edcb61-a7e9-4017-8843-74130293640e",
   "metadata": {},
   "outputs": [
    {
     "data": {
      "text/plain": [
       "dict_keys(['pmi', 'rpi', 'grad', 'rank_lime', 'greedy_score', 'random', 'lime', 'shap', 'lirme', 'exs_v1', 'exs_v2', 'grad_d', 'random_d'])"
      ]
     },
     "execution_count": 25,
     "metadata": {},
     "output_type": "execute_result"
    }
   ],
   "source": [
    "q_exps.keys()"
   ]
  },
  {
   "cell_type": "code",
   "execution_count": 26,
   "id": "ef9e2fdf-304e-4838-a7eb-230873ebeef1",
   "metadata": {},
   "outputs": [
    {
     "name": "stdout",
     "output_type": "stream",
     "text": [
      "pmi\n",
      "rpi\n",
      "grad\n",
      "rank_lime\n",
      "greedy_score\n",
      "random\n",
      "lime\n",
      "shap\n",
      "lirme\n",
      "exs_v1\n",
      "exs_v2\n",
      "grad_d\n",
      "random_d\n",
      "pmi\n",
      "rpi\n",
      "grad\n",
      "rank_lime\n",
      "greedy_score\n",
      "random\n",
      "lime\n",
      "shap\n",
      "lirme\n",
      "exs_v1\n",
      "exs_v2\n",
      "grad_d\n",
      "random_d\n"
     ]
    }
   ],
   "source": [
    "from query_robustness import query_importance_by_perturbation_rank\n",
    "grouped_data = []\n",
    "\n",
    "for i in range(len(indices) - 1):\n",
    "    grouped_data.append(valid_scaled[indices[i]:indices[i+1], 1:].copy())\n",
    "    \n",
    "deletion = query_importance_by_perturbation_rank(q_exps, grouped_data, ranker, del_type='deletion')\n",
    "preservation = query_importance_by_perturbation_rank(q_exps, grouped_data, ranker, del_type='preservation')\n",
    "\n",
    "robust = {'synthetic': {'deletion': deletion, 'preservation': preservation}}\n",
    "pickle.dump( robust, open( \"robust_synthetic_v1.p\", \"wb\" ) )"
   ]
  },
  {
   "cell_type": "code",
   "execution_count": null,
   "id": "67b69fbf-034f-4211-a307-6b548344de83",
   "metadata": {},
   "outputs": [],
   "source": [
    "## DPFF and Robustness"
   ]
  },
  {
   "cell_type": "code",
   "execution_count": 27,
   "id": "66610dc0-03fb-4ecc-9f9b-6b3fc2e17f05",
   "metadata": {},
   "outputs": [],
   "source": [
    "def get_auc(res, robust_type):\n",
    "    cutoffs = np.linspace(0.05, 0.45, 10)\n",
    "    auc = {}\n",
    "    dataset_names = list(res.keys())\n",
    "    \n",
    "    for i in range(len(dataset_names)):\n",
    "        auc[dataset_names[i]] = {}\n",
    "        temp_res = []\n",
    "        data_name = dataset_names[i]\n",
    "        res_ins = res[dataset_names[i]][robust_type]\n",
    "        exp_names = list(res_ins.keys())\n",
    "        for j in range(len(exp_names)):        \n",
    "\n",
    "            temp = np.array(res_ins[exp_names[j]]).mean(axis=1)\n",
    "            auc_ = 0\n",
    "            for k in range(1, len(cutoffs) - 1):\n",
    "                x = cutoffs[k] - cutoffs[k - 1]\n",
    "                y = temp[k] + temp[k-1]\n",
    "                auc_ += y / ( 2 * x)\n",
    "            auc[dataset_names[i]][exp_names[j]] = auc_ \n",
    "    return auc"
   ]
  },
  {
   "cell_type": "code",
   "execution_count": 28,
   "id": "b1590f05-cb86-4b21-b968-b5ab98e59e41",
   "metadata": {},
   "outputs": [],
   "source": [
    "#deletion = np.load('./synthetic_deletion.npy', allow_pickle=True)\n",
    "#preservation = np.load('./synthetic_preservation.npy', allow_pickle=True)"
   ]
  },
  {
   "cell_type": "code",
   "execution_count": 29,
   "id": "53f920b3-83ab-4719-a7e0-71a9b5311c75",
   "metadata": {},
   "outputs": [],
   "source": [
    "robust = pickle.load(open( \"robust_synthetic_v1.p\", \"rb\" ) )"
   ]
  },
  {
   "cell_type": "code",
   "execution_count": 30,
   "id": "ffe19d41-4e4f-4ba5-a251-f7180a95a4bc",
   "metadata": {},
   "outputs": [],
   "source": [
    "del_res = get_auc(robust, 'deletion')\n",
    "per_res = get_auc(robust, 'preservation')"
   ]
  },
  {
   "cell_type": "code",
   "execution_count": 31,
   "id": "068d9c12-3e17-43f0-9426-f3ab30099136",
   "metadata": {},
   "outputs": [
    {
     "data": {
      "text/html": [
       "<div>\n",
       "<style scoped>\n",
       "    .dataframe tbody tr th:only-of-type {\n",
       "        vertical-align: middle;\n",
       "    }\n",
       "\n",
       "    .dataframe tbody tr th {\n",
       "        vertical-align: top;\n",
       "    }\n",
       "\n",
       "    .dataframe thead th {\n",
       "        text-align: right;\n",
       "    }\n",
       "</style>\n",
       "<table border=\"1\" class=\"dataframe\">\n",
       "  <thead>\n",
       "    <tr style=\"text-align: right;\">\n",
       "      <th></th>\n",
       "      <th>pmi</th>\n",
       "      <th>rpi</th>\n",
       "      <th>grad</th>\n",
       "      <th>rank_lime</th>\n",
       "      <th>greedy_score</th>\n",
       "      <th>random</th>\n",
       "      <th>lime</th>\n",
       "      <th>shap</th>\n",
       "      <th>lirme</th>\n",
       "      <th>exs_v1</th>\n",
       "      <th>exs_v2</th>\n",
       "      <th>grad_d</th>\n",
       "      <th>random_d</th>\n",
       "    </tr>\n",
       "  </thead>\n",
       "  <tbody>\n",
       "    <tr>\n",
       "      <th>deletion</th>\n",
       "      <td>43.85</td>\n",
       "      <td>18.27</td>\n",
       "      <td>25.16</td>\n",
       "      <td>19.22</td>\n",
       "      <td>23.13</td>\n",
       "      <td>31.36</td>\n",
       "      <td>41.69</td>\n",
       "      <td>42.19</td>\n",
       "      <td>41.74</td>\n",
       "      <td>37.24</td>\n",
       "      <td>38.90</td>\n",
       "      <td>37.35</td>\n",
       "      <td>28.24</td>\n",
       "    </tr>\n",
       "    <tr>\n",
       "      <th>preservation</th>\n",
       "      <td>0.00</td>\n",
       "      <td>24.59</td>\n",
       "      <td>7.20</td>\n",
       "      <td>13.64</td>\n",
       "      <td>8.42</td>\n",
       "      <td>6.48</td>\n",
       "      <td>0.31</td>\n",
       "      <td>0.00</td>\n",
       "      <td>1.13</td>\n",
       "      <td>3.15</td>\n",
       "      <td>1.85</td>\n",
       "      <td>5.72</td>\n",
       "      <td>7.56</td>\n",
       "    </tr>\n",
       "  </tbody>\n",
       "</table>\n",
       "</div>"
      ],
      "text/plain": [
       "                pmi    rpi   grad  rank_lime  greedy_score  random   lime  \\\n",
       "deletion      43.85  18.27  25.16      19.22         23.13   31.36  41.69   \n",
       "preservation   0.00  24.59   7.20      13.64          8.42    6.48   0.31   \n",
       "\n",
       "               shap  lirme  exs_v1  exs_v2  grad_d  random_d  \n",
       "deletion      42.19  41.74   37.24   38.90   37.35     28.24  \n",
       "preservation   0.00   1.13    3.15    1.85    5.72      7.56  "
      ]
     },
     "execution_count": 31,
     "metadata": {},
     "output_type": "execute_result"
    }
   ],
   "source": [
    "pd.DataFrame([del_res['synthetic'],per_res['synthetic']], index=['deletion', 'preservation']).round(2)"
   ]
  },
  {
   "cell_type": "code",
   "execution_count": 32,
   "id": "379ee439-21e1-489f-ac1f-dac0ed7b47b8",
   "metadata": {},
   "outputs": [],
   "source": [
    "def get_dp_query(model, data, all_feat_names, evals):\n",
    "    tree_logic = model.trees_to_dataframe()\n",
    "    num_estimators = model.num_trees()\n",
    "\n",
    "    all_dec_paths = []\n",
    "\n",
    "    for j in range(num_estimators):\n",
    "    #for j in [4]:\n",
    "        temp = []\n",
    "        this_tree_decision_path = np.zeros((data.shape[0], data.shape[1]))\n",
    "        \n",
    "        for i in range(data.shape[0]):\n",
    "            instance = data[i]\n",
    "            decision_path = np.zeros(data.shape[1])\n",
    "            len_decision_paths = []\n",
    "\n",
    "            tree_idx = j\n",
    "            tree_info = tree_logic[tree_logic['tree_index'] == tree_idx]\n",
    "            root_node = tree_info[tree_info['parent_index'].values == None]\n",
    "            node_info = root_node\n",
    "            \n",
    "            while (not (node_info['left_child'].values[0] == None and node_info['right_child'].values[0] == None)):\n",
    "                split_feat = node_info['split_feature'].values\n",
    "                \n",
    "                feat_idx = np.argwhere(all_feat_names == split_feat).flatten()[0]\n",
    "                \n",
    "                #this_tree_decision_path[i, feat_idx] += 1 * (node_info['node_depth'].values) * (1/(node_info['weight'].values + 0.0001))\n",
    "                this_tree_decision_path[i, feat_idx] += 1 \n",
    "                \n",
    "                if root_node['decision_type'].values == '<=': \n",
    "                    condition = instance[feat_idx] <= node_info['threshold'].values[0]\n",
    "                else: \n",
    "                    condition = instance[feat_idx] > node_info['threshold'].values[0]\n",
    "\n",
    "                if condition == False:\n",
    "                    node_id = node_info['right_child'].values[0]\n",
    "\n",
    "                    node_info = tree_logic[tree_logic['node_index'] == node_id]\n",
    "                else: \n",
    "                    node_id = node_info['left_child'].values[0]\n",
    "\n",
    "                    node_info = tree_logic[tree_logic['node_index'] == node_id]\n",
    "\n",
    "        #all_dp_paths = np.sum(this_tree_decision_path, axis=0) / data.shape[0]\n",
    "        all_dp_paths = np.sum(this_tree_decision_path, axis=0) #/ data.shape[0]\n",
    "        #print(all_dp_paths)\n",
    "        #all_dp_paths *= evals['valid_1']['ndcg@5'][tree_idx]\n",
    "        \n",
    "        all_dec_paths.append(all_dp_paths)\n",
    "    \n",
    "    '''final_vector = []\n",
    "    for path in all_dec_paths:\n",
    "        if np.sum(path) != 0:\n",
    "            final_vector.append(path)\n",
    "    \n",
    "    final_vector = np.array(final_vector)\n",
    "    \n",
    "    f_path = np.mean(final_vector, axis=0)'''\n",
    "    all_dec_paths = np.mean(np.array(all_dec_paths), axis=0) #/ num_estimators\n",
    "    \n",
    "    return all_dec_paths"
   ]
  },
  {
   "cell_type": "code",
   "execution_count": 33,
   "id": "ff93c2fb-cb0b-4161-89b1-6d4762ed2a4f",
   "metadata": {},
   "outputs": [],
   "source": [
    "evals = pickle.load( open( \"./models/lmart_synthetic_eval.p\", \"rb\" ) )\n",
    "dp_accuracy = {}\n",
    "\n",
    "for e in q_exps.keys():\n",
    "    dp_accuracy[e] = 0\n",
    "    temp = []\n",
    "    for i in range(len(indices) - 1):\n",
    "        q_exp_val = q_exps[e][i].flatten()\n",
    "        q_truth = get_dp_query(ranker, valid_scaled[indices[i]:indices[i+1], 1:], ['1', '2', '3', '4', '5'], evals)\n",
    "        temp.append(kendalltau(q_exp_val, q_truth).statistic)\n",
    "    dp_accuracy[e] = np.nanmean(temp)"
   ]
  },
  {
   "cell_type": "code",
   "execution_count": 34,
   "id": "e61186df-b870-4823-b90e-1f80fbf34b4c",
   "metadata": {},
   "outputs": [],
   "source": [
    "q_truth = get_dp_query(ranker, valid_scaled[0:10, 1:], ['1', '2', '3', '4', '5'], evals)"
   ]
  },
  {
   "cell_type": "code",
   "execution_count": 35,
   "id": "888083c7-0625-49d0-b2a1-421cef9e29c4",
   "metadata": {},
   "outputs": [
    {
     "data": {
      "text/plain": [
       "array([0.1 , 0.32, 0.58, 0.  , 0.  ])"
      ]
     },
     "execution_count": 35,
     "metadata": {},
     "output_type": "execute_result"
    }
   ],
   "source": [
    "(q_truth / np.sum(q_truth)).round(2)"
   ]
  },
  {
   "cell_type": "code",
   "execution_count": 36,
   "id": "9c46ac13-6dfd-46c3-a6ea-7d64768bcabc",
   "metadata": {},
   "outputs": [],
   "source": [
    "b = pd.DataFrame([del_res['synthetic'],per_res['synthetic']], index=['Completeness', 'Validity']).round(2)\n",
    "c = pd.DataFrame(fidelity_ltr, index=['Fidelity LTR']).round(2)\n",
    "f = pd.DataFrame(fidelity_non_ltr, index=['InFidelity']).round(2)\n",
    "d = pd.DataFrame(accuracy, index=['GT accuracy']).round(2)\n",
    "a = pd.DataFrame(dp_accuracy, index=['FF Similarity']).round(2)\n",
    "e = pd.DataFrame(explain_ndcg, index=['ExplainNDCG@10']).round(2)"
   ]
  },
  {
   "cell_type": "code",
   "execution_count": 37,
   "id": "93e92e8f-3ea7-4f4a-a3c2-1715167d2859",
   "metadata": {},
   "outputs": [],
   "source": [
    "result = pd.concat([b,  f, c, e, a, d])\n",
    "#exp_we_care_about = ['pmi', 'rpi', 'grad', 'rank_lime', 'greedy_score', 'lirme', 'exs_v1', 'exs_v2', 'lime', 'shap','random']\n",
    "#exp_we_care_about_alt = np.array(['PMI',  'RPI', 'Grad', 'Greedy Score', 'RankLIME', 'LIRME', 'EXS (Top-k)', 'EXS (Score)', 'LIME', 'SHAP', 'Random'])\n",
    "\n",
    "exp_we_care_about = ['pmi',   'greedy_score', 'rank_lime','lirme', 'exs_v1', 'exs_v2', 'lime', 'shap','random']\n",
    "exp_we_care_about_alt = np.array(['PMI', 'Greedy Score', 'RankLIME', 'LIRME', 'EXS (Top-k)', 'EXS (Score)', 'LIME', 'SHAP', 'Random'])"
   ]
  },
  {
   "cell_type": "code",
   "execution_count": 38,
   "id": "ba503fe7-9f91-453b-a72d-4d52c8f188df",
   "metadata": {},
   "outputs": [],
   "source": [
    "result = result.filter(exp_we_care_about)\n",
    "result.columns = exp_we_care_about_alt"
   ]
  },
  {
   "cell_type": "code",
   "execution_count": 42,
   "id": "63fddfbc-ccb3-449e-9a67-6cf8d1ee976a",
   "metadata": {},
   "outputs": [
    {
     "data": {
      "text/html": [
       "<style type=\"text/css\">\n",
       "#T_322db_row0_col0, #T_322db_row1_col2, #T_322db_row2_col1, #T_322db_row3_col7, #T_322db_row4_col7, #T_322db_row5_col0, #T_322db_row6_col0 {\n",
       "  background-color: lightgreen;\n",
       "}\n",
       "</style>\n",
       "<table id=\"T_322db\">\n",
       "  <thead>\n",
       "    <tr>\n",
       "      <th class=\"blank level0\" >&nbsp;</th>\n",
       "      <th id=\"T_322db_level0_col0\" class=\"col_heading level0 col0\" >PMI</th>\n",
       "      <th id=\"T_322db_level0_col1\" class=\"col_heading level0 col1\" >Greedy Score</th>\n",
       "      <th id=\"T_322db_level0_col2\" class=\"col_heading level0 col2\" >RankLIME</th>\n",
       "      <th id=\"T_322db_level0_col3\" class=\"col_heading level0 col3\" >LIRME</th>\n",
       "      <th id=\"T_322db_level0_col4\" class=\"col_heading level0 col4\" >EXS (Top-k)</th>\n",
       "      <th id=\"T_322db_level0_col5\" class=\"col_heading level0 col5\" >EXS (Score)</th>\n",
       "      <th id=\"T_322db_level0_col6\" class=\"col_heading level0 col6\" >LIME</th>\n",
       "      <th id=\"T_322db_level0_col7\" class=\"col_heading level0 col7\" >SHAP</th>\n",
       "      <th id=\"T_322db_level0_col8\" class=\"col_heading level0 col8\" >Random</th>\n",
       "    </tr>\n",
       "  </thead>\n",
       "  <tbody>\n",
       "    <tr>\n",
       "      <th id=\"T_322db_level0_row0\" class=\"row_heading level0 row0\" >Completeness</th>\n",
       "      <td id=\"T_322db_row0_col0\" class=\"data row0 col0\" >43.850000</td>\n",
       "      <td id=\"T_322db_row0_col1\" class=\"data row0 col1\" >23.130000</td>\n",
       "      <td id=\"T_322db_row0_col2\" class=\"data row0 col2\" >19.220000</td>\n",
       "      <td id=\"T_322db_row0_col3\" class=\"data row0 col3\" >41.740000</td>\n",
       "      <td id=\"T_322db_row0_col4\" class=\"data row0 col4\" >37.240000</td>\n",
       "      <td id=\"T_322db_row0_col5\" class=\"data row0 col5\" >38.900000</td>\n",
       "      <td id=\"T_322db_row0_col6\" class=\"data row0 col6\" >41.690000</td>\n",
       "      <td id=\"T_322db_row0_col7\" class=\"data row0 col7\" >42.190000</td>\n",
       "      <td id=\"T_322db_row0_col8\" class=\"data row0 col8\" >31.360000</td>\n",
       "    </tr>\n",
       "    <tr>\n",
       "      <th id=\"T_322db_level0_row1\" class=\"row_heading level0 row1\" >Validity</th>\n",
       "      <td id=\"T_322db_row1_col0\" class=\"data row1 col0\" >0.000000</td>\n",
       "      <td id=\"T_322db_row1_col1\" class=\"data row1 col1\" >8.420000</td>\n",
       "      <td id=\"T_322db_row1_col2\" class=\"data row1 col2\" >13.640000</td>\n",
       "      <td id=\"T_322db_row1_col3\" class=\"data row1 col3\" >1.130000</td>\n",
       "      <td id=\"T_322db_row1_col4\" class=\"data row1 col4\" >3.150000</td>\n",
       "      <td id=\"T_322db_row1_col5\" class=\"data row1 col5\" >1.850000</td>\n",
       "      <td id=\"T_322db_row1_col6\" class=\"data row1 col6\" >0.310000</td>\n",
       "      <td id=\"T_322db_row1_col7\" class=\"data row1 col7\" >0.000000</td>\n",
       "      <td id=\"T_322db_row1_col8\" class=\"data row1 col8\" >6.480000</td>\n",
       "    </tr>\n",
       "    <tr>\n",
       "      <th id=\"T_322db_level0_row2\" class=\"row_heading level0 row2\" >InFidelity</th>\n",
       "      <td id=\"T_322db_row2_col0\" class=\"data row2 col0\" >-0.020000</td>\n",
       "      <td id=\"T_322db_row2_col1\" class=\"data row2 col1\" >0.530000</td>\n",
       "      <td id=\"T_322db_row2_col2\" class=\"data row2 col2\" >-0.060000</td>\n",
       "      <td id=\"T_322db_row2_col3\" class=\"data row2 col3\" >-0.010000</td>\n",
       "      <td id=\"T_322db_row2_col4\" class=\"data row2 col4\" >-0.100000</td>\n",
       "      <td id=\"T_322db_row2_col5\" class=\"data row2 col5\" >0.010000</td>\n",
       "      <td id=\"T_322db_row2_col6\" class=\"data row2 col6\" >-0.030000</td>\n",
       "      <td id=\"T_322db_row2_col7\" class=\"data row2 col7\" >0.000000</td>\n",
       "      <td id=\"T_322db_row2_col8\" class=\"data row2 col8\" >-0.020000</td>\n",
       "    </tr>\n",
       "    <tr>\n",
       "      <th id=\"T_322db_level0_row3\" class=\"row_heading level0 row3\" >Fidelity LTR</th>\n",
       "      <td id=\"T_322db_row3_col0\" class=\"data row3 col0\" >-0.420000</td>\n",
       "      <td id=\"T_322db_row3_col1\" class=\"data row3 col1\" >0.190000</td>\n",
       "      <td id=\"T_322db_row3_col2\" class=\"data row3 col2\" >0.020000</td>\n",
       "      <td id=\"T_322db_row3_col3\" class=\"data row3 col3\" >-0.080000</td>\n",
       "      <td id=\"T_322db_row3_col4\" class=\"data row3 col4\" >0.030000</td>\n",
       "      <td id=\"T_322db_row3_col5\" class=\"data row3 col5\" >-0.180000</td>\n",
       "      <td id=\"T_322db_row3_col6\" class=\"data row3 col6\" >-0.060000</td>\n",
       "      <td id=\"T_322db_row3_col7\" class=\"data row3 col7\" >0.280000</td>\n",
       "      <td id=\"T_322db_row3_col8\" class=\"data row3 col8\" >-0.120000</td>\n",
       "    </tr>\n",
       "    <tr>\n",
       "      <th id=\"T_322db_level0_row4\" class=\"row_heading level0 row4\" >ExplainNDCG@10</th>\n",
       "      <td id=\"T_322db_row4_col0\" class=\"data row4 col0\" >0.640000</td>\n",
       "      <td id=\"T_322db_row4_col1\" class=\"data row4 col1\" >0.810000</td>\n",
       "      <td id=\"T_322db_row4_col2\" class=\"data row4 col2\" >0.750000</td>\n",
       "      <td id=\"T_322db_row4_col3\" class=\"data row4 col3\" >0.770000</td>\n",
       "      <td id=\"T_322db_row4_col4\" class=\"data row4 col4\" >0.790000</td>\n",
       "      <td id=\"T_322db_row4_col5\" class=\"data row4 col5\" >0.730000</td>\n",
       "      <td id=\"T_322db_row4_col6\" class=\"data row4 col6\" >0.780000</td>\n",
       "      <td id=\"T_322db_row4_col7\" class=\"data row4 col7\" >0.870000</td>\n",
       "      <td id=\"T_322db_row4_col8\" class=\"data row4 col8\" >0.740000</td>\n",
       "    </tr>\n",
       "    <tr>\n",
       "      <th id=\"T_322db_level0_row5\" class=\"row_heading level0 row5\" >FF Similarity</th>\n",
       "      <td id=\"T_322db_row5_col0\" class=\"data row5 col0\" >0.990000</td>\n",
       "      <td id=\"T_322db_row5_col1\" class=\"data row5 col1\" >0.130000</td>\n",
       "      <td id=\"T_322db_row5_col2\" class=\"data row5 col2\" >-0.040000</td>\n",
       "      <td id=\"T_322db_row5_col3\" class=\"data row5 col3\" >-0.020000</td>\n",
       "      <td id=\"T_322db_row5_col4\" class=\"data row5 col4\" >-0.040000</td>\n",
       "      <td id=\"T_322db_row5_col5\" class=\"data row5 col5\" >0.170000</td>\n",
       "      <td id=\"T_322db_row5_col6\" class=\"data row5 col6\" >-0.040000</td>\n",
       "      <td id=\"T_322db_row5_col7\" class=\"data row5 col7\" >-0.140000</td>\n",
       "      <td id=\"T_322db_row5_col8\" class=\"data row5 col8\" >0.020000</td>\n",
       "    </tr>\n",
       "    <tr>\n",
       "      <th id=\"T_322db_level0_row6\" class=\"row_heading level0 row6\" >GT accuracy</th>\n",
       "      <td id=\"T_322db_row6_col0\" class=\"data row6 col0\" >0.330000</td>\n",
       "      <td id=\"T_322db_row6_col1\" class=\"data row6 col1\" >-0.110000</td>\n",
       "      <td id=\"T_322db_row6_col2\" class=\"data row6 col2\" >-0.020000</td>\n",
       "      <td id=\"T_322db_row6_col3\" class=\"data row6 col3\" >0.030000</td>\n",
       "      <td id=\"T_322db_row6_col4\" class=\"data row6 col4\" >-0.000000</td>\n",
       "      <td id=\"T_322db_row6_col5\" class=\"data row6 col5\" >0.110000</td>\n",
       "      <td id=\"T_322db_row6_col6\" class=\"data row6 col6\" >0.030000</td>\n",
       "      <td id=\"T_322db_row6_col7\" class=\"data row6 col7\" >-0.220000</td>\n",
       "      <td id=\"T_322db_row6_col8\" class=\"data row6 col8\" >0.050000</td>\n",
       "    </tr>\n",
       "  </tbody>\n",
       "</table>\n"
      ],
      "text/plain": [
       "<pandas.io.formats.style.Styler at 0x7f80c986da00>"
      ]
     },
     "execution_count": 42,
     "metadata": {},
     "output_type": "execute_result"
    }
   ],
   "source": [
    "result.round(2).style.highlight_max(color = 'lightgreen', axis = 1)"
   ]
  },
  {
   "cell_type": "code",
   "execution_count": 43,
   "id": "10cfdabb-eff7-47c3-a82a-d6f177905434",
   "metadata": {},
   "outputs": [
    {
     "name": "stdout",
     "output_type": "stream",
     "text": [
      "\\begin{tabular}{lrrrrrrrrr}\n",
      "\\toprule\n",
      "{} &   PMI &  Greedy Score &  RankLIME &  LIRME &  EXS (Top-k) &  EXS (Score) &  LIME &  SHAP &  Random \\\\\n",
      "\\midrule\n",
      "Completeness   & 43.85 &         23.13 &     19.22 &  41.74 &        37.24 &        38.90 & 41.69 & 42.19 &   31.36 \\\\\n",
      "Validity       &  0.00 &          8.42 &     13.64 &   1.13 &         3.15 &         1.85 &  0.31 &  0.00 &    6.48 \\\\\n",
      "InFidelity     & -0.02 &          0.53 &     -0.06 &  -0.01 &        -0.10 &         0.01 & -0.03 &  0.00 &   -0.02 \\\\\n",
      "Fidelity LTR   & -0.42 &          0.19 &      0.02 &  -0.08 &         0.03 &        -0.18 & -0.06 &  0.28 &   -0.12 \\\\\n",
      "ExplainNDCG@10 &  0.64 &          0.81 &      0.75 &   0.77 &         0.79 &         0.73 &  0.78 &  0.87 &    0.74 \\\\\n",
      "FF Similarity  &  0.99 &          0.13 &     -0.04 &  -0.02 &        -0.04 &         0.17 & -0.04 & -0.14 &    0.02 \\\\\n",
      "GT accuracy    &  0.33 &         -0.11 &     -0.02 &   0.03 &        -0.00 &         0.11 &  0.03 & -0.22 &    0.05 \\\\\n",
      "\\bottomrule\n",
      "\\end{tabular}\n",
      "\n"
     ]
    },
    {
     "name": "stderr",
     "output_type": "stream",
     "text": [
      "In future versions `DataFrame.to_latex` is expected to utilise the base implementation of `Styler.to_latex` for formatting and rendering. The arguments signature may therefore change. It is recommended instead to use `DataFrame.style.to_latex` which also contains additional functionality.\n"
     ]
    }
   ],
   "source": [
    "print(result.to_latex(index=True, formatters={\"name\": str.upper},float_format=\"{:.2f}\".format))"
   ]
  },
  {
   "cell_type": "code",
   "execution_count": 44,
   "id": "e47d1dcb-737a-431d-9a4c-6365cfe39ddc",
   "metadata": {},
   "outputs": [],
   "source": [
    "similarity = []\n",
    "for i in range(len(exp_we_care_about) - 1):\n",
    "    e_i = exp_we_care_about[i]\n",
    "    for j in range(len(exp_we_care_about) - 1):\n",
    "        e_j = exp_we_care_about[j]\n",
    "    \n",
    "        temp = []\n",
    "        first_exp = q_exps[e_i]\n",
    "        second_exp = q_exps[e_j]\n",
    "        \n",
    "        for k in range(len(first_exp)):\n",
    "            temp.append(kendalltau(first_exp[k], second_exp[k]).statistic)\n",
    "        similarity.append(np.nanmean(temp))"
   ]
  },
  {
   "cell_type": "code",
   "execution_count": 45,
   "id": "72549f8d-7800-46de-84da-d6ef81ac0791",
   "metadata": {},
   "outputs": [],
   "source": [
    "similarity_matrix = np.array(similarity).reshape(len(exp_we_care_about) - 1, len(exp_we_care_about) - 1).round(1)\n",
    "similarity_upper = np.tril(similarity_matrix)"
   ]
  },
  {
   "cell_type": "code",
   "execution_count": 46,
   "id": "ac9caa30-8895-408b-8a4b-e31726b4342e",
   "metadata": {},
   "outputs": [],
   "source": [
    "#exp_names_alt = ['PMI', 'RPI', 'Grad', 'RankLIME', 'GreedyScore', 'LIRME', 'EXS (Top-k)', 'EXS (Score)', 'LIME', 'SHAP']"
   ]
  },
  {
   "cell_type": "code",
   "execution_count": 47,
   "id": "6a2e3d82-11a3-4213-850f-d16070474eed",
   "metadata": {},
   "outputs": [
    {
     "data": {
      "image/png": "[encoded data removed]",
      "text/plain": [
       "<Figure size 450x450 with 1 Axes>"
      ]
     },
     "metadata": {},
     "output_type": "display_data"
    }
   ],
   "source": [
    "fig, ax = plt.subplots(1, 1, figsize=(3, 3), dpi=150)\n",
    "\n",
    "similarity_upper[np.triu_indices(similarity_upper.shape[0], +1)] = np.nan\n",
    "sns.heatmap(similarity_upper, xticklabels=exp_we_care_about_alt[:-1], cbar=False, yticklabels=exp_we_care_about_alt[:-1], annot=True, annot_kws={\"fontsize\":6, 'fontweight':'bold'})\n",
    "plt.tight_layout()\n",
    "plt.savefig('./img/pairwise_synthetic.pdf')\n",
    "plt.show()"
   ]
  },
  {
   "cell_type": "code",
   "execution_count": 48,
   "id": "0f9ba7a4-dde7-4be7-bf6d-0a0d14821744",
   "metadata": {},
   "outputs": [],
   "source": [
    "one_exp = {}\n",
    "for s in exp_we_care_about[:-1]:\n",
    "    one_exp[s] = q_exps[s][0]"
   ]
  },
  {
   "cell_type": "code",
   "execution_count": 49,
   "id": "02a5f5c3-f890-4262-b365-ebbda69c1483",
   "metadata": {},
   "outputs": [],
   "source": [
    "colors = ['turquoise',  'red',  'blue', 'gold', 'lightgreen', 'magenta', 'darkorange', 'brown', 'black']"
   ]
  },
  {
   "cell_type": "code",
   "execution_count": 50,
   "id": "1856573a-b18c-47f7-a83c-8b886b698955",
   "metadata": {},
   "outputs": [
    {
     "data": {
      "image/png": "[encoded data removed]",
      "text/plain": [
       "<Figure size 1000x700 with 8 Axes>"
      ]
     },
     "metadata": {},
     "output_type": "display_data"
    }
   ],
   "source": [
    "#fig, ax = plt.subplots(2, 4, figsize=(20, 10), sharey=True, dpi=120)\n",
    "fig, ax = plt.subplots(2, 4, figsize=(10, 7),  sharey=True, dpi=100)\n",
    "ax = ax.ravel()\n",
    "y_pos = np.arange(valid_scaled.shape[1])\n",
    "#titles = ['Greedy-Score', 'PMI', 'Grad', 'RPI']\n",
    "#feat_names = ['tf_body', 'tf_anchor', 'tf_title', 'tf_url', 'tf_all_document']\n",
    "ax[0].invert_yaxis() \n",
    "feat_names = []\n",
    "for i in range(1, 6):\n",
    "    feat_names.append('Feature {}'.format(i))\n",
    "    \n",
    "for i in range(8):    \n",
    "    ax[i].set_title(exp_we_care_about_alt[i], fontsize=15, fontweight='bold', pad=20)\n",
    "    ax[i].set_xticks([])\n",
    "    ax[i].set_xticklabels([])\n",
    "    #ax[i].set_ylabel('', labelpad=25)\n",
    "    ax[i].tick_params(left = False, bottom = False)\n",
    "    #ax[i].set_yticks(np.arange(len(features)))\n",
    "    #ax[i].set_yticklabels(features, fontsize=17)\n",
    "    ax[i].set_yticklabels([])\n",
    "    ax[i].set_xlim([-1, 1])\n",
    "    ax[i].barh(y_pos[:5], one_exp[exp_we_care_about[i]], align='center', height=0.4, color=colors[i])\n",
    "    #ax[i].set_yticks(y_pos)\n",
    "    #ax[i].set_yticklabels(features, fontsize= 18)\n",
    "    ax[i].axvline(x=0, c='black')\n",
    "\n",
    "    ax[i].spines['top'].set_visible(False)\n",
    "    ax[i].spines['right'].set_visible(False)\n",
    "    ax[i].spines['left'].set_visible(False)\n",
    "    ax[i].spines['bottom'].set_visible(False)\n",
    "    padding = 0.23\n",
    "    #for j in range(len(sel_feats)):\n",
    "    #for j in range(len(one_exp[subset_exps[i]])):\n",
    "    for j in range(5):\n",
    "        \n",
    "        if one_exp[exp_we_care_about[i]][j] < 0:\n",
    "            x_pos_ = 0.1\n",
    "        else: \n",
    "            x_pos_ = one_exp[exp_we_care_about[i]][j] + 0.1\n",
    "        \n",
    "        ax[i].text(x_pos_, j + padding, np.round(one_exp[exp_we_care_about[i]][j], 3), color='black', fontweight='bold', fontsize=8)\n",
    "        ax[i].text(0.03, j - padding, feat_names[j], color='black',  fontsize=10)\n",
    "        \n",
    "plt.savefig(\"./img/query_exp_example.pdf\", bbox_inches='tight')"
   ]
  },
  {
   "cell_type": "code",
   "execution_count": null,
   "id": "2c5439e8-f8b1-48f0-814f-fddfdf220259",
   "metadata": {},
   "outputs": [],
   "source": []
  },
  {
   "cell_type": "code",
   "execution_count": null,
   "id": "b199185d-056a-4c9f-9235-2b0a290074d7",
   "metadata": {},
   "outputs": [],
   "source": []
  }
 ],
 "metadata": {
  "kernelspec": {
   "display_name": "py39",
   "language": "python",
   "name": "py39"
  },
  "language_info": {
   "codemirror_mode": {
    "name": "ipython",
    "version": 3
   },
   "file_extension": ".py",
   "mimetype": "text/x-python",
   "name": "python",
   "nbconvert_exporter": "python",
   "pygments_lexer": "ipython3",
   "version": "3.8.10"
  }
 },
 "nbformat": 4,
 "nbformat_minor": 5
}
